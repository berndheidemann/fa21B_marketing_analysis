{
 "cells": [
  {
   "cell_type": "markdown",
   "source": [
    "https://www.kaggle.com/datasets/whenamancodes/ideal-customer-analysis-personality-test\n",
    "\n",
    "# People:\n",
    "* ID: Customer's unique identifier\n",
    "* Year_Birth: Customer's birth year\n",
    "* Education: Customer's education level\n",
    "* Marital_Status: Customer's marital status\n",
    "* Income: Customer's yearly household income\n",
    "* Kidhome: Number of children in customer's household\n",
    "* Teenhome: Number of teenagers in customer's household\n",
    "* Dt_Customer: Date of customer's enrollment with the company\n",
    "* Recency: Number of days since customer's last purchase\n",
    "* Complain: 1 if the customer complained in the last 2 years, 0 otherwise\n",
    "\n",
    "# Products:\n",
    "* MntWines: Amount spent on wine in last 2 years\n",
    "* MntFruits: Amount spent on fruits in last 2 years\n",
    "* MntMeatProducts: Amount spent on meat in last 2 years\n",
    "* MntFishProducts: Amount spent on fish in last 2 years\n",
    "* MntSweetProducts: Amount spent on sweets in last 2 years\n",
    "* MntGoldProds: Amount spent on gold in last 2 years\n",
    "\n",
    "# Promotion:\n",
    "* NumDealsPurchases: Number of purchases made with a discount\n",
    "* AcceptedCmp1: 1 if customer accepted the offer in the 1st campaign, 0 otherwise\n",
    "* AcceptedCmp2: 1 if customer accepted the offer in the 2nd campaign, 0 otherwise\n",
    "* AcceptedCmp3: 1 if customer accepted the offer in the 3rd campaign, 0 otherwise\n",
    "* AcceptedCmp4: 1 if customer accepted the offer in the 4th campaign, 0 otherwise\n",
    "* AcceptedCmp5: 1 if customer accepted the offer in the 5th campaign, 0 otherwise\n",
    "* Response: 1 if customer accepted the offer in the last campaign, 0 otherwise\n",
    "\n",
    "# Place:\n",
    "* NumWebPurchases: Number of purchases made through the company’s website\n",
    "* NumCatalogPurchases: Number of purchases made using a catalogue\n",
    "* NumStorePurchases: Number of purchases made directly in stores\n",
    "* NumWebVisitsMonth: Number of visits to company’s website in the last month"
   ],
   "metadata": {
    "collapsed": false,
    "pycharm": {
     "name": "#%% md\n"
    }
   }
  },
  {
   "cell_type": "code",
   "execution_count": 2,
   "outputs": [
    {
     "data": {
      "text/plain": "     ID  Year_Birth   Education Marital_Status   Income  Kidhome  Teenhome  \\\n0  5524        1957  Graduation         Single  58138.0        0         0   \n1  2174        1954  Graduation         Single  46344.0        1         1   \n2  4141        1965  Graduation       Together  71613.0        0         0   \n3  6182        1984  Graduation       Together  26646.0        1         0   \n4  5324        1981         PhD        Married  58293.0        1         0   \n\n  Dt_Customer  Recency  MntWines  ...  NumWebVisitsMonth  AcceptedCmp3  \\\n0  04-09-2012       58       635  ...                  7             0   \n1  08-03-2014       38        11  ...                  5             0   \n2  21-08-2013       26       426  ...                  4             0   \n3  10-02-2014       26        11  ...                  6             0   \n4  19-01-2014       94       173  ...                  5             0   \n\n   AcceptedCmp4  AcceptedCmp5  AcceptedCmp1  AcceptedCmp2  Complain  \\\n0             0             0             0             0         0   \n1             0             0             0             0         0   \n2             0             0             0             0         0   \n3             0             0             0             0         0   \n4             0             0             0             0         0   \n\n   Z_CostContact  Z_Revenue  Response  \n0              3         11         1  \n1              3         11         0  \n2              3         11         0  \n3              3         11         0  \n4              3         11         0  \n\n[5 rows x 29 columns]",
      "text/html": "<div>\n<style scoped>\n    .dataframe tbody tr th:only-of-type {\n        vertical-align: middle;\n    }\n\n    .dataframe tbody tr th {\n        vertical-align: top;\n    }\n\n    .dataframe thead th {\n        text-align: right;\n    }\n</style>\n<table border=\"1\" class=\"dataframe\">\n  <thead>\n    <tr style=\"text-align: right;\">\n      <th></th>\n      <th>ID</th>\n      <th>Year_Birth</th>\n      <th>Education</th>\n      <th>Marital_Status</th>\n      <th>Income</th>\n      <th>Kidhome</th>\n      <th>Teenhome</th>\n      <th>Dt_Customer</th>\n      <th>Recency</th>\n      <th>MntWines</th>\n      <th>...</th>\n      <th>NumWebVisitsMonth</th>\n      <th>AcceptedCmp3</th>\n      <th>AcceptedCmp4</th>\n      <th>AcceptedCmp5</th>\n      <th>AcceptedCmp1</th>\n      <th>AcceptedCmp2</th>\n      <th>Complain</th>\n      <th>Z_CostContact</th>\n      <th>Z_Revenue</th>\n      <th>Response</th>\n    </tr>\n  </thead>\n  <tbody>\n    <tr>\n      <td>0</td>\n      <td>5524</td>\n      <td>1957</td>\n      <td>Graduation</td>\n      <td>Single</td>\n      <td>58138.0</td>\n      <td>0</td>\n      <td>0</td>\n      <td>04-09-2012</td>\n      <td>58</td>\n      <td>635</td>\n      <td>...</td>\n      <td>7</td>\n      <td>0</td>\n      <td>0</td>\n      <td>0</td>\n      <td>0</td>\n      <td>0</td>\n      <td>0</td>\n      <td>3</td>\n      <td>11</td>\n      <td>1</td>\n    </tr>\n    <tr>\n      <td>1</td>\n      <td>2174</td>\n      <td>1954</td>\n      <td>Graduation</td>\n      <td>Single</td>\n      <td>46344.0</td>\n      <td>1</td>\n      <td>1</td>\n      <td>08-03-2014</td>\n      <td>38</td>\n      <td>11</td>\n      <td>...</td>\n      <td>5</td>\n      <td>0</td>\n      <td>0</td>\n      <td>0</td>\n      <td>0</td>\n      <td>0</td>\n      <td>0</td>\n      <td>3</td>\n      <td>11</td>\n      <td>0</td>\n    </tr>\n    <tr>\n      <td>2</td>\n      <td>4141</td>\n      <td>1965</td>\n      <td>Graduation</td>\n      <td>Together</td>\n      <td>71613.0</td>\n      <td>0</td>\n      <td>0</td>\n      <td>21-08-2013</td>\n      <td>26</td>\n      <td>426</td>\n      <td>...</td>\n      <td>4</td>\n      <td>0</td>\n      <td>0</td>\n      <td>0</td>\n      <td>0</td>\n      <td>0</td>\n      <td>0</td>\n      <td>3</td>\n      <td>11</td>\n      <td>0</td>\n    </tr>\n    <tr>\n      <td>3</td>\n      <td>6182</td>\n      <td>1984</td>\n      <td>Graduation</td>\n      <td>Together</td>\n      <td>26646.0</td>\n      <td>1</td>\n      <td>0</td>\n      <td>10-02-2014</td>\n      <td>26</td>\n      <td>11</td>\n      <td>...</td>\n      <td>6</td>\n      <td>0</td>\n      <td>0</td>\n      <td>0</td>\n      <td>0</td>\n      <td>0</td>\n      <td>0</td>\n      <td>3</td>\n      <td>11</td>\n      <td>0</td>\n    </tr>\n    <tr>\n      <td>4</td>\n      <td>5324</td>\n      <td>1981</td>\n      <td>PhD</td>\n      <td>Married</td>\n      <td>58293.0</td>\n      <td>1</td>\n      <td>0</td>\n      <td>19-01-2014</td>\n      <td>94</td>\n      <td>173</td>\n      <td>...</td>\n      <td>5</td>\n      <td>0</td>\n      <td>0</td>\n      <td>0</td>\n      <td>0</td>\n      <td>0</td>\n      <td>0</td>\n      <td>3</td>\n      <td>11</td>\n      <td>0</td>\n    </tr>\n  </tbody>\n</table>\n<p>5 rows × 29 columns</p>\n</div>"
     },
     "execution_count": 2,
     "metadata": {},
     "output_type": "execute_result"
    }
   ],
   "source": [
    "import pandas as pd\n",
    "\n",
    "# pandas separator tab\n",
    "\n",
    "df= pd.read_csv(\"marketing_campaign.csv\", sep=\"\\t\")\n",
    "\n",
    "df.head()"
   ],
   "metadata": {
    "collapsed": false,
    "pycharm": {
     "name": "#%%\n"
    }
   }
  },
  {
   "cell_type": "markdown",
   "source": [
    "# data cleaning\n",
    "\n",
    "* umbenennen der Spalten\n",
    "* Zahlen, die als String gespeichert sind, konvertieren und ggf. String-Teile entfernen\n",
    "* fehlerhafte Einträge entfernen (z.B. wenn überall oder fast überall null steht)\n",
    "* ggf. neue Spalten aus vorhandenen Daten erstellen\n",
    "* Datentypen überprüfen und ggf. ändern\n",
    "* Spalten entfernen, die für die Auswertung keine Rolle spielen\n",
    "* Fehlende Werte auffüllen (z.B. mit dem Mean)"
   ],
   "metadata": {
    "collapsed": false,
    "pycharm": {
     "name": "#%% md\n"
    }
   }
  },
  {
   "cell_type": "code",
   "execution_count": 3,
   "outputs": [
    {
     "data": {
      "text/plain": "     id  year_birth   education marital_status   income  kidhome  teenhome  \\\n0  5524        1957  Graduation         Single  58138.0        0         0   \n1  2174        1954  Graduation         Single  46344.0        1         1   \n2  4141        1965  Graduation       Together  71613.0        0         0   \n3  6182        1984  Graduation       Together  26646.0        1         0   \n4  5324        1981         PhD        Married  58293.0        1         0   \n\n  dt_customer  recency  mntwines  ...  numwebvisitsmonth  acceptedcmp3  \\\n0  04-09-2012       58       635  ...                  7             0   \n1  08-03-2014       38        11  ...                  5             0   \n2  21-08-2013       26       426  ...                  4             0   \n3  10-02-2014       26        11  ...                  6             0   \n4  19-01-2014       94       173  ...                  5             0   \n\n   acceptedcmp4  acceptedcmp5  acceptedcmp1  acceptedcmp2  complain  \\\n0             0             0             0             0         0   \n1             0             0             0             0         0   \n2             0             0             0             0         0   \n3             0             0             0             0         0   \n4             0             0             0             0         0   \n\n   z_costcontact  z_revenue  response  \n0              3         11         1  \n1              3         11         0  \n2              3         11         0  \n3              3         11         0  \n4              3         11         0  \n\n[5 rows x 29 columns]",
      "text/html": "<div>\n<style scoped>\n    .dataframe tbody tr th:only-of-type {\n        vertical-align: middle;\n    }\n\n    .dataframe tbody tr th {\n        vertical-align: top;\n    }\n\n    .dataframe thead th {\n        text-align: right;\n    }\n</style>\n<table border=\"1\" class=\"dataframe\">\n  <thead>\n    <tr style=\"text-align: right;\">\n      <th></th>\n      <th>id</th>\n      <th>year_birth</th>\n      <th>education</th>\n      <th>marital_status</th>\n      <th>income</th>\n      <th>kidhome</th>\n      <th>teenhome</th>\n      <th>dt_customer</th>\n      <th>recency</th>\n      <th>mntwines</th>\n      <th>...</th>\n      <th>numwebvisitsmonth</th>\n      <th>acceptedcmp3</th>\n      <th>acceptedcmp4</th>\n      <th>acceptedcmp5</th>\n      <th>acceptedcmp1</th>\n      <th>acceptedcmp2</th>\n      <th>complain</th>\n      <th>z_costcontact</th>\n      <th>z_revenue</th>\n      <th>response</th>\n    </tr>\n  </thead>\n  <tbody>\n    <tr>\n      <td>0</td>\n      <td>5524</td>\n      <td>1957</td>\n      <td>Graduation</td>\n      <td>Single</td>\n      <td>58138.0</td>\n      <td>0</td>\n      <td>0</td>\n      <td>04-09-2012</td>\n      <td>58</td>\n      <td>635</td>\n      <td>...</td>\n      <td>7</td>\n      <td>0</td>\n      <td>0</td>\n      <td>0</td>\n      <td>0</td>\n      <td>0</td>\n      <td>0</td>\n      <td>3</td>\n      <td>11</td>\n      <td>1</td>\n    </tr>\n    <tr>\n      <td>1</td>\n      <td>2174</td>\n      <td>1954</td>\n      <td>Graduation</td>\n      <td>Single</td>\n      <td>46344.0</td>\n      <td>1</td>\n      <td>1</td>\n      <td>08-03-2014</td>\n      <td>38</td>\n      <td>11</td>\n      <td>...</td>\n      <td>5</td>\n      <td>0</td>\n      <td>0</td>\n      <td>0</td>\n      <td>0</td>\n      <td>0</td>\n      <td>0</td>\n      <td>3</td>\n      <td>11</td>\n      <td>0</td>\n    </tr>\n    <tr>\n      <td>2</td>\n      <td>4141</td>\n      <td>1965</td>\n      <td>Graduation</td>\n      <td>Together</td>\n      <td>71613.0</td>\n      <td>0</td>\n      <td>0</td>\n      <td>21-08-2013</td>\n      <td>26</td>\n      <td>426</td>\n      <td>...</td>\n      <td>4</td>\n      <td>0</td>\n      <td>0</td>\n      <td>0</td>\n      <td>0</td>\n      <td>0</td>\n      <td>0</td>\n      <td>3</td>\n      <td>11</td>\n      <td>0</td>\n    </tr>\n    <tr>\n      <td>3</td>\n      <td>6182</td>\n      <td>1984</td>\n      <td>Graduation</td>\n      <td>Together</td>\n      <td>26646.0</td>\n      <td>1</td>\n      <td>0</td>\n      <td>10-02-2014</td>\n      <td>26</td>\n      <td>11</td>\n      <td>...</td>\n      <td>6</td>\n      <td>0</td>\n      <td>0</td>\n      <td>0</td>\n      <td>0</td>\n      <td>0</td>\n      <td>0</td>\n      <td>3</td>\n      <td>11</td>\n      <td>0</td>\n    </tr>\n    <tr>\n      <td>4</td>\n      <td>5324</td>\n      <td>1981</td>\n      <td>PhD</td>\n      <td>Married</td>\n      <td>58293.0</td>\n      <td>1</td>\n      <td>0</td>\n      <td>19-01-2014</td>\n      <td>94</td>\n      <td>173</td>\n      <td>...</td>\n      <td>5</td>\n      <td>0</td>\n      <td>0</td>\n      <td>0</td>\n      <td>0</td>\n      <td>0</td>\n      <td>0</td>\n      <td>3</td>\n      <td>11</td>\n      <td>0</td>\n    </tr>\n  </tbody>\n</table>\n<p>5 rows × 29 columns</p>\n</div>"
     },
     "execution_count": 3,
     "metadata": {},
     "output_type": "execute_result"
    }
   ],
   "source": [
    "# rename cols to lowercase\n",
    "df.columns=df.columns.str.lower()\n",
    "df.head()"
   ],
   "metadata": {
    "collapsed": false,
    "pycharm": {
     "name": "#%%\n"
    }
   }
  },
  {
   "cell_type": "code",
   "execution_count": 4,
   "outputs": [
    {
     "name": "stdout",
     "output_type": "stream",
     "text": [
      "<class 'pandas.core.frame.DataFrame'>\n",
      "RangeIndex: 2240 entries, 0 to 2239\n",
      "Data columns (total 29 columns):\n",
      "id                     2240 non-null int64\n",
      "year_birth             2240 non-null int64\n",
      "education              2240 non-null object\n",
      "marital_status         2240 non-null object\n",
      "income                 2216 non-null float64\n",
      "kidhome                2240 non-null int64\n",
      "teenhome               2240 non-null int64\n",
      "dt_customer            2240 non-null object\n",
      "recency                2240 non-null int64\n",
      "mntwines               2240 non-null int64\n",
      "mntfruits              2240 non-null int64\n",
      "mntmeatproducts        2240 non-null int64\n",
      "mntfishproducts        2240 non-null int64\n",
      "mntsweetproducts       2240 non-null int64\n",
      "mntgoldprods           2240 non-null int64\n",
      "numdealspurchases      2240 non-null int64\n",
      "numwebpurchases        2240 non-null int64\n",
      "numcatalogpurchases    2240 non-null int64\n",
      "numstorepurchases      2240 non-null int64\n",
      "numwebvisitsmonth      2240 non-null int64\n",
      "acceptedcmp3           2240 non-null int64\n",
      "acceptedcmp4           2240 non-null int64\n",
      "acceptedcmp5           2240 non-null int64\n",
      "acceptedcmp1           2240 non-null int64\n",
      "acceptedcmp2           2240 non-null int64\n",
      "complain               2240 non-null int64\n",
      "z_costcontact          2240 non-null int64\n",
      "z_revenue              2240 non-null int64\n",
      "response               2240 non-null int64\n",
      "dtypes: float64(1), int64(25), object(3)\n",
      "memory usage: 507.6+ KB\n"
     ]
    }
   ],
   "source": [
    "df.info()\n",
    "\n",
    "# add"
   ],
   "metadata": {
    "collapsed": false,
    "pycharm": {
     "name": "#%%\n"
    }
   }
  },
  {
   "cell_type": "markdown",
   "source": [],
   "metadata": {
    "collapsed": false,
    "pycharm": {
     "name": "#%% md\n"
    }
   }
  },
  {
   "cell_type": "markdown",
   "source": [
    "## bei income fehlen 24 Einträge, was tun?\n",
    "\n",
    "Variante 1: Rows entfernen, da income eine wichtige Information ist, die fehlt\n",
    "Variante 2: Fehlende Incomes durch das Mean-Income ersetzen. So bleiben die übrigen Informationen im Datensatz erhalten"
   ],
   "metadata": {
    "collapsed": false,
    "pycharm": {
     "name": "#%% md\n"
    }
   }
  },
  {
   "cell_type": "code",
   "execution_count": 5,
   "outputs": [],
   "source": [
    "# remove rows with missing income\n",
    "df.dropna(subset=[\"income\"], inplace=True)"
   ],
   "metadata": {
    "collapsed": false,
    "pycharm": {
     "name": "#%%\n"
    }
   }
  },
  {
   "cell_type": "code",
   "execution_count": 6,
   "outputs": [
    {
     "data": {
      "text/plain": "Index(['education', 'marital_status', 'dt_customer'], dtype='object')"
     },
     "execution_count": 6,
     "metadata": {},
     "output_type": "execute_result"
    }
   ],
   "source": [
    "# show all columns with object datatype\n",
    "df.select_dtypes(include=\"object\").columns"
   ],
   "metadata": {
    "collapsed": false,
    "pycharm": {
     "name": "#%%\n"
    }
   }
  },
  {
   "cell_type": "markdown",
   "source": [
    "Datentypen passen überall"
   ],
   "metadata": {
    "collapsed": false,
    "pycharm": {
     "name": "#%% md\n"
    }
   }
  },
  {
   "cell_type": "code",
   "execution_count": 7,
   "outputs": [],
   "source": [
    "# add neu Column children_count with the sum of kidhome and teenhome\n",
    "df[\"children_count\"]=df[\"kidhome\"]+df[\"teenhome\"]"
   ],
   "metadata": {
    "collapsed": false,
    "pycharm": {
     "name": "#%%\n"
    }
   }
  },
  {
   "cell_type": "markdown",
   "source": [
    "ID ist keine relevate Information für die Auswertung, kann entfernt werden"
   ],
   "metadata": {
    "collapsed": false,
    "pycharm": {
     "name": "#%% md\n"
    }
   }
  },
  {
   "cell_type": "code",
   "execution_count": 8,
   "outputs": [],
   "source": [
    "# drop id column\n",
    "df.drop(\"id\", axis=1, inplace=True)"
   ],
   "metadata": {
    "collapsed": false,
    "pycharm": {
     "name": "#%%\n"
    }
   }
  },
  {
   "cell_type": "markdown",
   "source": [
    "## Datacleaning abgeschlossen"
   ],
   "metadata": {
    "collapsed": false,
    "pycharm": {
     "name": "#%% md\n"
    }
   }
  },
  {
   "cell_type": "markdown",
   "source": [
    "# explorative Datenvisualisierung"
   ],
   "metadata": {
    "collapsed": false,
    "pycharm": {
     "name": "#%% md\n"
    }
   }
  },
  {
   "cell_type": "code",
   "execution_count": 9,
   "outputs": [],
   "source": [
    "import matplotlib.pyplot as plt"
   ],
   "metadata": {
    "collapsed": false,
    "pycharm": {
     "name": "#%%\n"
    }
   }
  },
  {
   "cell_type": "code",
   "execution_count": 10,
   "outputs": [
    {
     "data": {
      "text/plain": "   year_birth   education marital_status   income  kidhome  teenhome  \\\n0        1957  Graduation         Single  58138.0        0         0   \n1        1954  Graduation         Single  46344.0        1         1   \n2        1965  Graduation       Together  71613.0        0         0   \n3        1984  Graduation       Together  26646.0        1         0   \n4        1981         PhD        Married  58293.0        1         0   \n\n  dt_customer  recency  mntwines  mntfruits  ...  acceptedcmp3  acceptedcmp4  \\\n0  04-09-2012       58       635         88  ...             0             0   \n1  08-03-2014       38        11          1  ...             0             0   \n2  21-08-2013       26       426         49  ...             0             0   \n3  10-02-2014       26        11          4  ...             0             0   \n4  19-01-2014       94       173         43  ...             0             0   \n\n   acceptedcmp5  acceptedcmp1  acceptedcmp2  complain  z_costcontact  \\\n0             0             0             0         0              3   \n1             0             0             0         0              3   \n2             0             0             0         0              3   \n3             0             0             0         0              3   \n4             0             0             0         0              3   \n\n   z_revenue  response  children_count  \n0         11         1               0  \n1         11         0               2  \n2         11         0               0  \n3         11         0               1  \n4         11         0               1  \n\n[5 rows x 29 columns]",
      "text/html": "<div>\n<style scoped>\n    .dataframe tbody tr th:only-of-type {\n        vertical-align: middle;\n    }\n\n    .dataframe tbody tr th {\n        vertical-align: top;\n    }\n\n    .dataframe thead th {\n        text-align: right;\n    }\n</style>\n<table border=\"1\" class=\"dataframe\">\n  <thead>\n    <tr style=\"text-align: right;\">\n      <th></th>\n      <th>year_birth</th>\n      <th>education</th>\n      <th>marital_status</th>\n      <th>income</th>\n      <th>kidhome</th>\n      <th>teenhome</th>\n      <th>dt_customer</th>\n      <th>recency</th>\n      <th>mntwines</th>\n      <th>mntfruits</th>\n      <th>...</th>\n      <th>acceptedcmp3</th>\n      <th>acceptedcmp4</th>\n      <th>acceptedcmp5</th>\n      <th>acceptedcmp1</th>\n      <th>acceptedcmp2</th>\n      <th>complain</th>\n      <th>z_costcontact</th>\n      <th>z_revenue</th>\n      <th>response</th>\n      <th>children_count</th>\n    </tr>\n  </thead>\n  <tbody>\n    <tr>\n      <td>0</td>\n      <td>1957</td>\n      <td>Graduation</td>\n      <td>Single</td>\n      <td>58138.0</td>\n      <td>0</td>\n      <td>0</td>\n      <td>04-09-2012</td>\n      <td>58</td>\n      <td>635</td>\n      <td>88</td>\n      <td>...</td>\n      <td>0</td>\n      <td>0</td>\n      <td>0</td>\n      <td>0</td>\n      <td>0</td>\n      <td>0</td>\n      <td>3</td>\n      <td>11</td>\n      <td>1</td>\n      <td>0</td>\n    </tr>\n    <tr>\n      <td>1</td>\n      <td>1954</td>\n      <td>Graduation</td>\n      <td>Single</td>\n      <td>46344.0</td>\n      <td>1</td>\n      <td>1</td>\n      <td>08-03-2014</td>\n      <td>38</td>\n      <td>11</td>\n      <td>1</td>\n      <td>...</td>\n      <td>0</td>\n      <td>0</td>\n      <td>0</td>\n      <td>0</td>\n      <td>0</td>\n      <td>0</td>\n      <td>3</td>\n      <td>11</td>\n      <td>0</td>\n      <td>2</td>\n    </tr>\n    <tr>\n      <td>2</td>\n      <td>1965</td>\n      <td>Graduation</td>\n      <td>Together</td>\n      <td>71613.0</td>\n      <td>0</td>\n      <td>0</td>\n      <td>21-08-2013</td>\n      <td>26</td>\n      <td>426</td>\n      <td>49</td>\n      <td>...</td>\n      <td>0</td>\n      <td>0</td>\n      <td>0</td>\n      <td>0</td>\n      <td>0</td>\n      <td>0</td>\n      <td>3</td>\n      <td>11</td>\n      <td>0</td>\n      <td>0</td>\n    </tr>\n    <tr>\n      <td>3</td>\n      <td>1984</td>\n      <td>Graduation</td>\n      <td>Together</td>\n      <td>26646.0</td>\n      <td>1</td>\n      <td>0</td>\n      <td>10-02-2014</td>\n      <td>26</td>\n      <td>11</td>\n      <td>4</td>\n      <td>...</td>\n      <td>0</td>\n      <td>0</td>\n      <td>0</td>\n      <td>0</td>\n      <td>0</td>\n      <td>0</td>\n      <td>3</td>\n      <td>11</td>\n      <td>0</td>\n      <td>1</td>\n    </tr>\n    <tr>\n      <td>4</td>\n      <td>1981</td>\n      <td>PhD</td>\n      <td>Married</td>\n      <td>58293.0</td>\n      <td>1</td>\n      <td>0</td>\n      <td>19-01-2014</td>\n      <td>94</td>\n      <td>173</td>\n      <td>43</td>\n      <td>...</td>\n      <td>0</td>\n      <td>0</td>\n      <td>0</td>\n      <td>0</td>\n      <td>0</td>\n      <td>0</td>\n      <td>3</td>\n      <td>11</td>\n      <td>0</td>\n      <td>1</td>\n    </tr>\n  </tbody>\n</table>\n<p>5 rows × 29 columns</p>\n</div>"
     },
     "execution_count": 10,
     "metadata": {},
     "output_type": "execute_result"
    }
   ],
   "source": [
    "df.head()"
   ],
   "metadata": {
    "collapsed": false,
    "pycharm": {
     "name": "#%%\n"
    }
   }
  },
  {
   "cell_type": "code",
   "execution_count": 11,
   "outputs": [
    {
     "data": {
      "text/plain": "<Figure size 432x288 with 1 Axes>",
      "image/png": "[encoded data removed]"
     },
     "metadata": {
      "needs_background": "light"
     },
     "output_type": "display_data"
    }
   ],
   "source": [
    "plt.plot(df[\"income\"])\n",
    "plt.xlabel(\"customer\")\n",
    "plt.ylabel(\"income\")\n",
    "plt.title(\"Income of customers\")\n",
    "plt.show()"
   ],
   "metadata": {
    "collapsed": false,
    "pycharm": {
     "name": "#%%\n"
    }
   }
  },
  {
   "cell_type": "markdown",
   "source": [
    "Der Chart macht so aber wenig Sinn (wir brauchten halt einen Line-Chart)"
   ],
   "metadata": {
    "collapsed": false,
    "pycharm": {
     "name": "#%% md\n"
    }
   }
  },
  {
   "cell_type": "code",
   "execution_count": 12,
   "outputs": [
    {
     "data": {
      "text/plain": "dtype('O')"
     },
     "execution_count": 12,
     "metadata": {},
     "output_type": "execute_result"
    }
   ],
   "source": [
    "df[\"dt_customer\"].dtype"
   ],
   "metadata": {
    "collapsed": false,
    "pycharm": {
     "name": "#%%\n"
    }
   }
  },
  {
   "cell_type": "code",
   "execution_count": 13,
   "outputs": [],
   "source": [
    "# convert dt_customer to datetime\n",
    "df[\"dt_customer\"]=pd.to_datetime(df[\"dt_customer\"])"
   ],
   "metadata": {
    "collapsed": false,
    "pycharm": {
     "name": "#%%\n"
    }
   }
  },
  {
   "cell_type": "code",
   "execution_count": 14,
   "outputs": [
    {
     "data": {
      "text/plain": "<Figure size 432x288 with 1 Axes>",
      "image/png": "[encoded data removed]"
     },
     "metadata": {
      "needs_background": "light"
     },
     "output_type": "display_data"
    }
   ],
   "source": [
    "from pandas.plotting import register_matplotlib_converters\n",
    "register_matplotlib_converters()\n",
    "\n",
    "# scatter plot with dt_customer and income\n",
    "plt.scatter(df[\"dt_customer\"], df[\"income\"])\n",
    "plt.xlabel(\"date\")\n",
    "# rotate xticks\n",
    "plt.xticks(rotation=45)\n",
    "plt.ylabel(\"income\")\n",
    "plt.title(\"Income of customers\")\n",
    "plt.show()\n"
   ],
   "metadata": {
    "collapsed": false,
    "pycharm": {
     "name": "#%%\n"
    }
   }
  },
  {
   "cell_type": "markdown",
   "source": [
    "Aussage dieser Grafik:\n",
    "\n",
    "* Es gibt KEINEN Zusammenhang zwischen dem Datum der Anmeldung und dem Einkommen\n",
    "* Offensichtlich gibt es einen Outlier, der ein sehr hohes Einkommen hat (den müssen wir noch bereinigen). Ist aber eigentlich nicht der Job dieser Grafik sowas zu finden"
   ],
   "metadata": {
    "collapsed": false,
    "pycharm": {
     "name": "#%% md\n"
    }
   }
  },
  {
   "cell_type": "code",
   "execution_count": 15,
   "outputs": [],
   "source": [
    "# remove outlier\n",
    "df=df[df[\"income\"]<300000]"
   ],
   "metadata": {
    "collapsed": false,
    "pycharm": {
     "name": "#%%\n"
    }
   }
  },
  {
   "cell_type": "code",
   "execution_count": 16,
   "outputs": [
    {
     "data": {
      "text/plain": "<Figure size 432x288 with 1 Axes>",
      "image/png": "[encoded data removed]"
     },
     "metadata": {
      "needs_background": "light"
     },
     "output_type": "display_data"
    }
   ],
   "source": [
    "# histogram of income\n",
    "plt.hist(df[\"income\"], bins=50)\n",
    "plt.xlabel(\"income\")\n",
    "plt.ylabel(\"count\")\n",
    "plt.show()\n"
   ],
   "metadata": {
    "collapsed": false,
    "pycharm": {
     "name": "#%%\n"
    }
   }
  },
  {
   "cell_type": "code",
   "execution_count": 17,
   "outputs": [
    {
     "data": {
      "text/plain": "<Figure size 432x288 with 1 Axes>",
      "image/png": "[encoded data removed]"
     },
     "metadata": {
      "needs_background": "light"
     },
     "output_type": "display_data"
    }
   ],
   "source": [
    "# scatter plot with year_birth and income\n",
    "plt.scatter(df[\"year_birth\"], df[\"income\"])\n",
    "plt.xlabel(\"year of birth\")\n",
    "plt.ylabel(\"income\")\n",
    "plt.title(\"Income of customers\")\n",
    "plt.show()"
   ],
   "metadata": {
    "collapsed": false,
    "pycharm": {
     "name": "#%%\n"
    }
   }
  },
  {
   "cell_type": "code",
   "execution_count": 18,
   "outputs": [],
   "source": [
    "# remove rows with year_birth < 1910\n",
    "df=df[df[\"year_birth\"]>=1910]"
   ],
   "metadata": {
    "collapsed": false,
    "pycharm": {
     "name": "#%%\n"
    }
   }
  },
  {
   "cell_type": "code",
   "execution_count": 19,
   "outputs": [
    {
     "data": {
      "text/plain": "<Figure size 432x288 with 1 Axes>",
      "image/png": "[encoded data removed]"
     },
     "metadata": {
      "needs_background": "light"
     },
     "output_type": "display_data"
    }
   ],
   "source": [
    "# scatter plot with year_birth and income\n",
    "plt.scatter(df[\"year_birth\"], df[\"income\"])\n",
    "plt.xlabel(\"year of birth\")\n",
    "plt.ylabel(\"income\")\n",
    "plt.title(\"Income of customers\")\n",
    "plt.show()"
   ],
   "metadata": {
    "collapsed": false,
    "pycharm": {
     "name": "#%%\n"
    }
   }
  },
  {
   "cell_type": "code",
   "execution_count": 20,
   "outputs": [
    {
     "data": {
      "text/plain": "-0.1999766464388071"
     },
     "execution_count": 20,
     "metadata": {},
     "output_type": "execute_result"
    }
   ],
   "source": [
    "# print pearson correlation coefficient between year_birth and income\n",
    "df[\"year_birth\"].corr(df[\"income\"])"
   ],
   "metadata": {
    "collapsed": false,
    "pycharm": {
     "name": "#%%\n"
    }
   }
  },
  {
   "cell_type": "code",
   "execution_count": 20,
   "outputs": [],
   "source": [],
   "metadata": {
    "collapsed": false,
    "pycharm": {
     "name": "#%%\n"
    }
   }
  },
  {
   "cell_type": "code",
   "execution_count": 20,
   "outputs": [],
   "source": [],
   "metadata": {
    "collapsed": false,
    "pycharm": {
     "name": "#%%\n"
    }
   }
  }
 ],
 "metadata": {
  "kernelspec": {
   "display_name": "Python 3",
   "language": "python",
   "name": "python3"
  },
  "language_info": {
   "codemirror_mode": {
    "name": "ipython",
    "version": 2
   },
   "file_extension": ".py",
   "mimetype": "text/x-python",
   "name": "python",
   "nbconvert_exporter": "python",
   "pygments_lexer": "ipython2",
   "version": "2.7.6"
  }
 },
 "nbformat": 4,
 "nbformat_minor": 0
}